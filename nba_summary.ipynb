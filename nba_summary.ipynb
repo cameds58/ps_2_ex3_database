{
 "cells": [
  {
   "cell_type": "markdown",
   "metadata": {},
   "source": [
    "# NBA Data Analysis Summary\n",
    "\n",
    "This notebook provides a summary of insights derived from the NBA dataset. Each insight is processed and visualized using modular functions for data wrangling and visualisation."
   ]
  },
  {
   "cell_type": "code",
   "execution_count": null,
   "metadata": {},
   "outputs": [],
   "source": [
    "import pandas as pd \n",
    "from nba.data_wrangling import load_data, load_data_draft, load_data_team, drop_empty_str_row, convert_float, fill_na_with_mean, cleanup_position, groupby_mean, analyse_draft_picks, analyse_franchise_by_city\n",
    "from nba.visualisation import bar_plot_position, radar_plot_position, plot_draft_pick_distribution, plot_franchise_stability"
   ]
  },
  {
   "cell_type": "markdown",
   "metadata": {},
   "source": [
    "## Insight 1: Position vs Physical Condition"
   ]
  },
  {
   "cell_type": "code",
   "execution_count": null,
   "metadata": {},
   "outputs": [],
   "source": [
    "# Load data and select relevant features\n",
    "df = load_data('draft_combine_stats')\n",
    "df = df[['position', 'height_wo_shoes', 'body_fat_pct', 'weight']]\n",
    "\n",
    "# Clean data\n",
    "df = drop_empty_str_row(df, 'position')\n",
    "df = convert_float(df, ['weight', 'body_fat_pct'])\n",
    "df = fill_na_with_mean(df, ['height_wo_shoes', 'body_fat_pct', 'weight'])\n",
    "df = cleanup_position(df)\n",
    "\n",
    "# Aggregate\n",
    "df_agg = groupby_mean(df, 'position')\n",
    "bar_plot_position(df_agg, ['height_wo_shoes', 'body_fat_pct', 'weight'])"
   ]
  },
  {
   "cell_type": "markdown",
   "metadata": {},
   "source": [
    "## Insight 2: Position vs Athletic Performance"
   ]
  },
  {
   "cell_type": "code",
   "execution_count": null,
   "metadata": {},
   "outputs": [],
   "source": [
    "# Add athletic features to data and clean\n",
    "df = load_data('draft_combine_stats')\n",
    "df = df[['position', 'max_vertical_leap', 'lane_agility_time', 'bench_press']]\n",
    "df = drop_empty_str_row(df, 'position')\n",
    "df = convert_float(df, ['max_vertical_leap', 'lane_agility_time', 'bench_press'])\n",
    "df = fill_na_with_mean(df, ['max_vertical_leap', 'lane_agility_time', 'bench_press'])\n",
    "df = cleanup_position(df)\n",
    "\n",
    "# Aggregate and visualize\n",
    "df_agg = groupby_mean(df, 'position')\n",
    "radar_plot_position(df_agg)"
   ]
  },
  {
   "cell_type": "markdown",
   "metadata": {},
   "source": [
    "## Insight 3: Position vs Athletic Performance\n"
   ]
  },
  {
   "cell_type": "code",
   "execution_count": null,
   "metadata": {},
   "outputs": [],
   "source": [
    "# Load data\n",
    "df_draft = load_data_draft('draft_history')"
   ]
  },
  {
   "cell_type": "code",
   "execution_count": null,
   "metadata": {},
   "outputs": [],
   "source": [
    "# Get draft pick distribution data\n",
    "draft_pick_distribution = analyse_draft_picks(df_draft)"
   ]
  },
  {
   "cell_type": "code",
   "execution_count": null,
   "metadata": {},
   "outputs": [],
   "source": [
    "# Visualise the distribution\n",
    "plot_draft_pick_distribution(draft_pick_distribution)"
   ]
  },
  {
   "cell_type": "markdown",
   "metadata": {},
   "source": [
    "## Insight 4: Realtive Stability of NBA Franchises"
   ]
  },
  {
   "cell_type": "code",
   "execution_count": null,
   "metadata": {},
   "outputs": [],
   "source": [
    "# Load data\n",
    "nba_data = load_data_team('team_history')"
   ]
  },
  {
   "cell_type": "code",
   "execution_count": null,
   "metadata": {},
   "outputs": [],
   "source": [
    "# Get franchise stability data\n",
    "franchise_stability = analyse_franchise_by_city(nba_data)"
   ]
  },
  {
   "cell_type": "code",
   "execution_count": null,
   "metadata": {},
   "outputs": [],
   "source": [
    "# Visualise franchise stability by city\n",
    "plot_franchise_stability(franchise_stability)"
   ]
  },
  {
   "cell_type": "markdown",
   "metadata": {},
   "source": [
    "## Conclusions"
   ]
  },
  {
   "cell_type": "markdown",
   "metadata": {},
   "source": [
    "## Insight 1:\n",
    "\n",
    "### Result: (on average)\n",
    "1. for height: PG < SG < SF < PF < C\n",
    "2. for weight: PG < SG < SF < PF < C\n",
    "3. for body fat percentage: PG < SG < SF < PF < C\n",
    "\n",
    "### Interpretation:\n",
    "\n",
    "PG stands for point guards, whose primary role is to carry the ball across the perimeter, hence players in this position are on average shorter and lighter\n",
    "\n",
    "On the contrary, C (centers) are mainly responsible for blocking and defending, hence players in center position on average would be taller and heavier \n",
    "\n",
    "\n",
    "## Insight 2:\n",
    "\n",
    "### Result: (on average)\n",
    "1. C and PF: perform the best in bench press\n",
    "2. PG and SG: perform the best in lane agibility \n",
    "3. SG and PG: perform the best in vertical leap\n",
    "\n",
    "### Interpretation:\n",
    "\n",
    "Shooting Guards and Point Guards are responsible for shooting and dunking, hence they normally have the best jumping skills and explosive power \n",
    "\n",
    "Point Guards and  Shooting Guards require high agility to move pass the perimeter, hence they have the best speed and are the quickest players on the court  \n",
    "\n",
    "\n",
    "Center and Power Forwards require players are the most physically demanding positions, hence we can see players in these two positsion in general have greater endurance \n",
    "\n",
    "## Insight 3:\n",
    "\n",
    "### Result:\n",
    "1. College recruits make up the majority of NBA draft picks.\n",
    "2. High School recruits have a relatively small representation compared to college recruits.\n",
    "3. Other sources provide some NBA talent but are less common than college pathways.\n",
    "\n",
    "### Interpretation:\n",
    "\n",
    "The preference for players with collegiate experience reflects the NBA’s reliance on college programs as a primary development ground for talent. This preference suggests that collegiate leagues provide a structured training environment that helps players build essential skills for the NBA.\n",
    "\n",
    "\n",
    "## Insight 4:\n",
    "\n",
    "### Result:\n",
    "\n",
    "1. Los Angeles, New York, and Boston are among the cities with the longest NBA presence, indicating high franchise stability.\n",
    "2. Cities with shorter hosting durations may represent newer franchises or locations with more team movement.\n",
    "\n",
    "### Interpretation:\n",
    "\n",
    "Cities with long-standing NBA franchises, such as Los Angeles and New York, reflect established markets that benefit from consistent fan engagement and revenue. The stability in these cities points to strong local support and significant market value, while newer or shorter-duration cities may still be developing their fan base and market presence."
   ]
  }
 ],
 "metadata": {
  "kernelspec": {
   "display_name": "nba",
   "language": "python",
   "name": "python3"
  },
  "language_info": {
   "codemirror_mode": {
    "name": "ipython",
    "version": 3
   },
   "file_extension": ".py",
   "mimetype": "text/x-python",
   "name": "python",
   "nbconvert_exporter": "python",
   "pygments_lexer": "ipython3",
   "version": "3.12.3"
  }
 },
 "nbformat": 4,
 "nbformat_minor": 2
}
